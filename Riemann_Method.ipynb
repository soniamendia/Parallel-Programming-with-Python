{
  "nbformat": 4,
  "nbformat_minor": 0,
  "metadata": {
    "colab": {
      "provenance": []
    },
    "kernelspec": {
      "name": "python3",
      "display_name": "Python 3"
    },
    "language_info": {
      "name": "python"
    }
  },
  "cells": [
    {
      "cell_type": "code",
      "execution_count": null,
      "metadata": {
        "colab": {
          "base_uri": "https://localhost:8080/"
        },
        "id": "4myP5sR3R25R",
        "outputId": "c298068c-d939-4294-c332-214b0d014bbb"
      },
      "outputs": [
        {
          "output_type": "stream",
          "name": "stdout",
          "text": [
            "Approximation of pi using Riemann sums with a different function: 3.1415946524138207\n"
          ]
        }
      ],
      "source": [
        "import math\n",
        "\n",
        "# Define a different function g(x) for demonstration\n",
        "def g(x):\n",
        "    return math.sqrt(1 - x ** 2)  # Function with a curve similar to 1 / sqrt(1 - x^2)\n",
        "\n",
        "# Function to perform Riemann sum approximation with a different function\n",
        "def riemann_approximation(N):\n",
        "    delta_x = 1 / N  # Width of each rectangle\n",
        "    area_sum = 0  # Accumulator variable to store sum of rectangle areas\n",
        "    for i in range(N):\n",
        "        x_i = i * delta_x  # x-coordinate of the left side of the rectangle\n",
        "        area_sum += g(x_i) * delta_x  # Add area of each rectangle to the sum\n",
        "    return area_sum * 4  # Multiply by 4 for the quarter circle\n",
        "\n",
        "if __name__ == \"__main__\":\n",
        "    rectangles = 1000000  # Number of rectangles\n",
        "    pi_approximation = riemann_approximation(rectangles)  # Approximation of pi using Riemann sums\n",
        "    print(\"Approximation of pi using Riemann sums with a different function:\", pi_approximation)\n",
        "\n",
        "\n"
      ]
    },
    {
      "cell_type": "code",
      "source": [
        "import math\n",
        "from multiprocessing import Pool\n",
        "\n",
        "# Define the function g(x) for demonstration\n",
        "def g(x):\n",
        "    return 1 / (1 + x ** 2)  # Function with a curve similar to 1 / sqrt(1 - x^2)\n",
        "\n",
        "# Worker function for Riemann sum computation\n",
        "def riemann_sum_worker(args):\n",
        "    i, delta_x = args\n",
        "    x_i = i * delta_x\n",
        "    return g(x_i) * delta_x\n",
        "\n",
        "# Function to perform Riemann sum approximation with parallelization\n",
        "def riemann_sum_parallel(N):\n",
        "    delta_x = 1 / N\n",
        "    args_list = [(i, delta_x) for i in range(N)]\n",
        "    with Pool() as pool:\n",
        "        results = pool.map(riemann_sum_worker, args_list)\n",
        "    return sum(results) * 4\n",
        "\n",
        "if __name__ == \"__main__\":\n",
        "    rectangles = 1000000  # Number of rectangles\n",
        "    pi_approx_parallel = riemann_sum_parallel(rectangles)  # Approximation of pi using Riemann sums with parallelization\n",
        "    print(\"Approximation of pi using Riemann sums with parallelization (multiprocessing):\", pi_approx_parallel)\n",
        "\n"
      ],
      "metadata": {
        "colab": {
          "base_uri": "https://localhost:8080/"
        },
        "id": "YoLyu37tPbXT",
        "outputId": "14e5453c-e2cc-4f28-e51e-e078eed049c2"
      },
      "execution_count": null,
      "outputs": [
        {
          "output_type": "stream",
          "name": "stdout",
          "text": [
            "Approximation of pi using Riemann sums with parallelization (multiprocessing): 3.141593653589567\n"
          ]
        }
      ]
    },
    {
      "cell_type": "code",
      "source": [
        "!pip install mpi4py\n",
        "from mpi4py import MPI\n",
        "from decimal import Decimal, getcontext\n",
        "import math\n",
        "\n",
        "# Define the function f(x) for demonstration\n",
        "def f(x):\n",
        "    return Decimal(math.sqrt(1 - x ** 2))  # Function with a curve similar to 1 / sqrt(1 - x^2)\n",
        "\n",
        "# Worker function for Riemann sum computation using midpoint rule\n",
        "def riemann_sum_worker(i, delta_x):\n",
        "    x_mid = (Decimal(i) + Decimal('0.5')) * delta_x  # Midpoint of the interval\n",
        "    return f(x_mid) * delta_x\n",
        "\n",
        "# Function to perform Riemann sum approximation with distributed parallelization using MPI\n",
        "def riemann_sum_distributed(N):\n",
        "    comm = MPI.COMM_WORLD\n",
        "    rank = comm.Get_rank()\n",
        "    size = comm.Get_size()\n",
        "    delta_x = Decimal('1') / Decimal(N)  # Width of each rectangle\n",
        "\n",
        "    local_N = N // size\n",
        "    local_start = rank * local_N\n",
        "    local_end = local_start + local_N\n",
        "\n",
        "    local_sum = Decimal('0')\n",
        "    for i in range(local_start, local_end):\n",
        "        local_sum += riemann_sum_worker(i, delta_x)\n",
        "\n",
        "    pi_approx_local = local_sum * Decimal('4')  # Multiply by 4 for the quarter circle\n",
        "    pi_approx_total = comm.reduce(pi_approx_local, op=MPI.SUM, root=0)\n",
        "    return pi_approx_total\n",
        "\n",
        "if __name__ == \"__main__\":\n",
        "    N = 1000000  # Number of rectangles (reduce for quicker execution)\n",
        "    pi_approx_distributed = riemann_sum_distributed(N)\n",
        "    if MPI.COMM_WORLD.Get_rank() == 0:\n",
        "        print(\"Approximation of pi using Riemann sums with distributed parallelization (mpi4py):\", pi_approx_distributed)\n"
      ],
      "metadata": {
        "colab": {
          "base_uri": "https://localhost:8080/"
        },
        "id": "AiFMbwmG5vCk",
        "outputId": "f3c3e534-da28-4d51-b93e-599fd49d0d28"
      },
      "execution_count": 3,
      "outputs": [
        {
          "output_type": "stream",
          "name": "stdout",
          "text": [
            "Requirement already satisfied: mpi4py in /usr/local/lib/python3.10/dist-packages (3.1.6)\n",
            "Approximation of pi using Riemann sums with distributed parallelization (mpi4py): 3.141592653934230390471330674\n"
          ]
        }
      ]
    },
    {
      "cell_type": "code",
      "source": [
        "import math\n",
        "\n",
        "# Given approximations of pi\n",
        "approximations = [\n",
        "    3.1415946524138207,\n",
        "    3.141593653589567,\n",
        "    3.141592653934230390471330674\n",
        "]\n",
        "\n",
        "# Actual value of pi\n",
        "actual_pi = math.pi\n",
        "\n",
        "# Calculate the absolute differences between each approximation and actual_pi\n",
        "differences = [abs(approx - actual_pi) for approx in approximations]\n",
        "\n",
        "# Find the index of the closest and farthest approximations\n",
        "closest_index = differences.index(min(differences))\n",
        "farthest_index = differences.index(max(differences))\n",
        "\n",
        "# Get the closest and farthest approximations and their differences from actual_pi\n",
        "closest_approx = approximations[closest_index]\n",
        "closest_difference = differences[closest_index]\n",
        "\n",
        "farthest_approx = approximations[farthest_index]\n",
        "farthest_difference = differences[farthest_index]\n",
        "\n",
        "# Function to format numbers without scientific notation\n",
        "def format_number(num):\n",
        "    return \"{:.15f}\".format(num)\n",
        "\n",
        "# Print the results with formatted numbers\n",
        "print(\"Actual value of pi:\", format_number(actual_pi))\n",
        "print(\"Given approximations:\", [format_number(approx) for approx in approximations])\n",
        "print(\"Differences from actual pi:\", [format_number(diff) for diff in differences])\n",
        "print(\"Closest approximation to pi:\", format_number(closest_approx))\n",
        "print(\"Difference from actual pi (closest):\", format_number(closest_difference))\n",
        "print(\"Farthest approximation from pi:\", format_number(farthest_approx))\n",
        "print(\"Difference from actual pi (farthest):\", format_number(farthest_difference))\n"
      ],
      "metadata": {
        "colab": {
          "base_uri": "https://localhost:8080/"
        },
        "id": "UtXXAquw_Juo",
        "outputId": "e926a1ad-f83c-4b7e-c0ef-3ca618b5fa7f"
      },
      "execution_count": 6,
      "outputs": [
        {
          "output_type": "stream",
          "name": "stdout",
          "text": [
            "Actual value of pi: 3.141592653589793\n",
            "Given approximations: ['3.141594652413821', '3.141593653589567', '3.141592653934230']\n",
            "Differences from actual pi: ['0.000001998824028', '0.000000999999774', '0.000000000344437']\n",
            "Closest approximation to pi: 3.141592653934230\n",
            "Difference from actual pi (closest): 0.000000000344437\n",
            "Farthest approximation from pi: 3.141594652413821\n",
            "Difference from actual pi (farthest): 0.000001998824028\n"
          ]
        }
      ]
    },
    {
      "cell_type": "code",
      "source": [],
      "metadata": {
        "id": "eLxjpaX4CoYx"
      },
      "execution_count": null,
      "outputs": []
    }
  ]
}